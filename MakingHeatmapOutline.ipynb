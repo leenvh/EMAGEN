{
 "cells": [
  {
   "cell_type": "markdown",
   "metadata": {},
   "source": [
    "## Pre-requisites and getting started"
   ]
  },
  {
   "cell_type": "code",
   "execution_count": 81,
   "metadata": {},
   "outputs": [],
   "source": [
    "#If plotly or sklearn or whichever needed package is not installed on your system you will need to run this command first (remove the # first)\n",
    "#!pip install plotly\n",
    "#!pip install scikit-learn\n",
    "\n",
    "#If any of the pip install code is not correctly written, read the output and adjust, for example, sklrean needs to be scikit-learn to work"
   ]
  },
  {
   "cell_type": "code",
   "execution_count": 82,
   "metadata": {},
   "outputs": [],
   "source": [
    "#In rare cases, if your system does not have pandas installed, you may need to run this command to address that\n",
    "#!pip install pandas"
   ]
  },
  {
   "cell_type": "code",
   "execution_count": 83,
   "metadata": {},
   "outputs": [],
   "source": [
    "#The import code below is needed to run downstream info\n",
    "#You must run this\n",
    "\n",
    "import numpy as np\n",
    "import pandas as pd\n",
    "import matplotlib.pyplot as plt\n",
    "import seaborn as sns \n",
    "import random\n",
    "\n",
    "%matplotlib inline\n",
    "%reload_ext autoreload\n",
    "%autoreload 2\n",
    "\n",
    "from matplotlib.patches import Patch\n",
    "\n",
    "import plotly.express as px\n",
    "from sklearn.decomposition import PCA\n",
    "from matplotlib.patches import Patch"
   ]
  },
  {
   "cell_type": "markdown",
   "metadata": {},
   "source": [
    "## Loading in csv "
   ]
  },
  {
   "cell_type": "code",
   "execution_count": 84,
   "metadata": {},
   "outputs": [],
   "source": [
    "#This command loads a csv file that should have at least the Sample ID, Site, SNP, G_Annotation, VAF, and whether the sample is individual or pooled\n",
    "#Replace the NameOfFile.csv part with the name of your file. If the file is not in the same directory as this Jupyter Notebook, you will need to specify the path length, within the quotes, as well as the name at the end of the path length (all within the quotes)\n",
    "\n",
    "StudySNPs=pd.read_csv('NGSresults.csv')\n",
    "\n",
    "#The command below will remove the period, any values after the period, and the percentage symbol within the VAF column. The heatmap takes whole numbers and they cannot be a percentage.\n",
    "#This command should only be run as needed, but even if non-decimal, non-percentage type of data is present within VAF, this command can still be run as it would not perform any manipulation, and thereby the end result would be the same as not running it\n",
    "StudySNPs['VAF'] = StudySNPs['VAF'].str.replace(r'.\\d*%', '', regex=True) \n"
   ]
  },
  {
   "cell_type": "code",
   "execution_count": 85,
   "metadata": {},
   "outputs": [
    {
     "name": "stdout",
     "output_type": "stream",
     "text": [
      "       StudyID   GENE REGION Site DISTRICT  TREATMENT_DAY      POOLED  YEAR  \\\n",
      "0  ACH21-AA003  Pfcrt   Afar  AMI  Amibara              0  individual    21   \n",
      "1  ACH21-AA003  Pfcrt   Afar  AMI  Amibara              0  individual    21   \n",
      "2  ACH21-AA003  Pfcrt   Afar  AMI  Amibara              0  individual    21   \n",
      "3  ACH21-AA003  Pfcrt   Afar  AMI  Amibara              0  individual    21   \n",
      "4  ACH21-AA003  Pfcrt   Afar  AMI  Amibara              0  individual    21   \n",
      "\n",
      "   COVERAGE  VAF   VF G_ANNOTATION AA_change   SNP      TYPE   SEX   AGE  \n",
      "0       757  100  757         K76T      K76T   K76  mutation  Male  42.0  \n",
      "1       508  100  508        A220S     A220S  A220  mutation  Male  42.0  \n",
      "2       600  100  600        Q271E     Q271E  Q271  mutation  Male  42.0  \n",
      "3       660  100  660        N326S     N326S  N326  mutation  Male  42.0  \n",
      "4       681  100  681        R371I     R371I  R371  mutation  Male  42.0  \n"
     ]
    }
   ],
   "source": [
    "#This command shows a preview of the loaded csv file. This is good to know to make sure the file loaded correctly, but also that the information present within the file is organized as expected and has, at least in the first few rows, the correct type of information\n",
    "\n",
    "print(StudySNPs.head())"
   ]
  },
  {
   "cell_type": "code",
   "execution_count": 86,
   "metadata": {},
   "outputs": [],
   "source": [
    "#This command pulls out only the individually sequenced samples as annotated by the \"Individual\" label in the \"POOLED\" column\n",
    "\n",
    "#IndividualSamplesOnly=StudySNPs[StudySNPs['Individual'] == 'Individual']\n",
    "\n",
    "\n",
    "#However, if both individual and pooled samples are to be plotted, instead can run this\n",
    "\n",
    "IndividualSamplesOnly=StudySNPs"
   ]
  },
  {
   "cell_type": "code",
   "execution_count": 87,
   "metadata": {},
   "outputs": [],
   "source": [
    "#This command is used to create a list of the unique amino acid sites\n",
    "#At the bottom the ID may be differently named, for example, in the instance where I was writing this, instead of AMD_ID_IND I had used \"StudyID\" as it was a special case. \n",
    "#That is why the AMD_ID_IND containing line was #'d out and the correct one was kept in\n",
    "\n",
    "#avoid duplicate SNPs in the final heatmap by only recording the original amino acid and the location of the SNP\n",
    "\n",
    "IndividualSamplesOnly = IndividualSamplesOnly.drop(columns=['SNP'])\n",
    "IndividualSamplesOnly = IndividualSamplesOnly.rename(columns={'G_ANNOTATION':'SNP'})\n",
    "IndividualSamplesOnly['SNP'] = IndividualSamplesOnly['SNP'].astype(str)\n",
    "IndividualSamplesOnly['SNP'] = IndividualSamplesOnly['SNP'].str[:-1] \n",
    "#IndividualSamplesOnly = IndividualSamplesOnly.drop_duplicates(subset=['AMD_ID_IND','SITE', 'SNP', 'VAF'])\n",
    "IndividualSamplesOnly = IndividualSamplesOnly.drop_duplicates(subset=['StudyID','Site', 'SNP', 'VAF'])"
   ]
  },
  {
   "cell_type": "code",
   "execution_count": 88,
   "metadata": {},
   "outputs": [
    {
     "data": {
      "text/plain": [
       "array(['K76', 'A220', 'Q271', 'N326', 'R371', 'N51', 'C59', 'S108',\n",
       "       'A437', 'K540', 'N86', 'R622', 'Y184', 'P441', 'M74', 'N75',\n",
       "       'I356', 'A581', 'S436', 'A675', 'A578', 'Y268', 'F446', 'G449',\n",
       "       'N458', 'C469', 'M476', 'A481', 'Y493', 'R515', 'P527', 'N537',\n",
       "       'G538', 'R539', 'I543', 'P553', 'R561', 'V568', 'P574', 'C580',\n",
       "       'D584', 'I258', 'A16', 'I164', 'I431', 'A613', 'C72', 'V73', 'T93',\n",
       "       'H97', 'F145', 'I218', 'M343', 'C350', 'G353', 'S1034', 'N1042',\n",
       "       'D1246'], dtype=object)"
      ]
     },
     "execution_count": 88,
     "metadata": {},
     "output_type": "execute_result"
    }
   ],
   "source": [
    "#This command shows the unique values from the SNP column we edited earlier. These values should be something like AA###, like R622 in k13 for example\n",
    "\n",
    "IndividualSamplesOnly.SNP.unique()"
   ]
  },
  {
   "cell_type": "markdown",
   "metadata": {},
   "source": [
    "## Creating the SNP-GENE Dictionary"
   ]
  },
  {
   "cell_type": "code",
   "execution_count": 89,
   "metadata": {},
   "outputs": [],
   "source": [
    "#This command establishes a dictionary that connects each SNP in the file to its corresponding gene and groups them together by gene\n",
    "\n",
    "SNP_GENE_DICT = IndividualSamplesOnly[['SNP', 'GENE']]\n",
    "SNP_GENE_DICT = SNP_GENE_DICT.drop_duplicates()\n",
    "SNP_GENE_DICT = SNP_GENE_DICT.sort_values(by=['GENE'], ascending=True).reset_index(drop=True)"
   ]
  },
  {
   "cell_type": "markdown",
   "metadata": {},
   "source": [
    "#### The next 6 commands creates an individual SNP-GENE dictionary for each Gene so that we can order the SNPs by where they occur from 3' to 5'"
   ]
  },
  {
   "cell_type": "code",
   "execution_count": 90,
   "metadata": {},
   "outputs": [
    {
     "name": "stderr",
     "output_type": "stream",
     "text": [
      "/tmp/ipykernel_2847034/1583348567.py:4: SettingWithCopyWarning: \n",
      "A value is trying to be set on a copy of a slice from a DataFrame.\n",
      "Try using .loc[row_indexer,col_indexer] = value instead\n",
      "\n",
      "See the caveats in the documentation: https://pandas.pydata.org/pandas-docs/stable/user_guide/indexing.html#returning-a-view-versus-a-copy\n",
      "  Pfcrt_Dict['NucleotideNumber'] = Pfcrt_Dict['SNP'].str.extract('(\\d+)', expand=True)\n",
      "/tmp/ipykernel_2847034/1583348567.py:5: SettingWithCopyWarning: \n",
      "A value is trying to be set on a copy of a slice from a DataFrame.\n",
      "Try using .loc[row_indexer,col_indexer] = value instead\n",
      "\n",
      "See the caveats in the documentation: https://pandas.pydata.org/pandas-docs/stable/user_guide/indexing.html#returning-a-view-versus-a-copy\n",
      "  Pfcrt_Dict['NucleotideNumber'] = Pfcrt_Dict['NucleotideNumber'].astype(int)\n"
     ]
    }
   ],
   "source": [
    "#Pfcrt\n",
    "\n",
    "Pfcrt_Dict = SNP_GENE_DICT[SNP_GENE_DICT['GENE'].str.contains('Pfcrt')]\n",
    "Pfcrt_Dict['NucleotideNumber'] = Pfcrt_Dict['SNP'].str.extract('(\\d+)', expand=True)\n",
    "Pfcrt_Dict['NucleotideNumber'] = Pfcrt_Dict['NucleotideNumber'].astype(int)\n",
    "Pfcrt_Dict = Pfcrt_Dict.sort_values(by=['NucleotideNumber'], ascending=True).reset_index(drop=True)\n",
    "Pfcrt_Dict = Pfcrt_Dict.drop(['NucleotideNumber'], axis=1)"
   ]
  },
  {
   "cell_type": "code",
   "execution_count": 91,
   "metadata": {},
   "outputs": [
    {
     "name": "stderr",
     "output_type": "stream",
     "text": [
      "/tmp/ipykernel_2847034/169009293.py:4: SettingWithCopyWarning: \n",
      "A value is trying to be set on a copy of a slice from a DataFrame.\n",
      "Try using .loc[row_indexer,col_indexer] = value instead\n",
      "\n",
      "See the caveats in the documentation: https://pandas.pydata.org/pandas-docs/stable/user_guide/indexing.html#returning-a-view-versus-a-copy\n",
      "  Pfcytb_Dict['NucleotideNumber'] = Pfcytb_Dict['SNP'].str.extract('(\\d+)', expand=True)\n",
      "/tmp/ipykernel_2847034/169009293.py:5: SettingWithCopyWarning: \n",
      "A value is trying to be set on a copy of a slice from a DataFrame.\n",
      "Try using .loc[row_indexer,col_indexer] = value instead\n",
      "\n",
      "See the caveats in the documentation: https://pandas.pydata.org/pandas-docs/stable/user_guide/indexing.html#returning-a-view-versus-a-copy\n",
      "  Pfcytb_Dict['NucleotideNumber'] = Pfcytb_Dict['NucleotideNumber'].astype(int)\n"
     ]
    }
   ],
   "source": [
    "#Pfcytb\n",
    "\n",
    "Pfcytb_Dict = SNP_GENE_DICT[SNP_GENE_DICT['GENE'].str.contains('Pfcytb')]\n",
    "Pfcytb_Dict['NucleotideNumber'] = Pfcytb_Dict['SNP'].str.extract('(\\d+)', expand=True)\n",
    "Pfcytb_Dict['NucleotideNumber'] = Pfcytb_Dict['NucleotideNumber'].astype(int)\n",
    "Pfcytb_Dict = Pfcytb_Dict.sort_values(by=['NucleotideNumber'], ascending=True).reset_index(drop=True)\n",
    "Pfcytb_Dict = Pfcytb_Dict.drop(['NucleotideNumber'], axis=1)"
   ]
  },
  {
   "cell_type": "code",
   "execution_count": 92,
   "metadata": {},
   "outputs": [
    {
     "name": "stderr",
     "output_type": "stream",
     "text": [
      "/tmp/ipykernel_2847034/3936208337.py:4: SettingWithCopyWarning: \n",
      "A value is trying to be set on a copy of a slice from a DataFrame.\n",
      "Try using .loc[row_indexer,col_indexer] = value instead\n",
      "\n",
      "See the caveats in the documentation: https://pandas.pydata.org/pandas-docs/stable/user_guide/indexing.html#returning-a-view-versus-a-copy\n",
      "  Pfdhfr_Dict['NucleotideNumber'] = Pfdhfr_Dict['SNP'].str.extract('(\\d+)', expand=True)\n",
      "/tmp/ipykernel_2847034/3936208337.py:5: SettingWithCopyWarning: \n",
      "A value is trying to be set on a copy of a slice from a DataFrame.\n",
      "Try using .loc[row_indexer,col_indexer] = value instead\n",
      "\n",
      "See the caveats in the documentation: https://pandas.pydata.org/pandas-docs/stable/user_guide/indexing.html#returning-a-view-versus-a-copy\n",
      "  Pfdhfr_Dict['NucleotideNumber'] = Pfdhfr_Dict['NucleotideNumber'].astype(int)\n"
     ]
    }
   ],
   "source": [
    "#Pfdhfr\n",
    "\n",
    "Pfdhfr_Dict = SNP_GENE_DICT[SNP_GENE_DICT['GENE'].str.contains('Pfdhfr')]\n",
    "Pfdhfr_Dict['NucleotideNumber'] = Pfdhfr_Dict['SNP'].str.extract('(\\d+)', expand=True)\n",
    "Pfdhfr_Dict['NucleotideNumber'] = Pfdhfr_Dict['NucleotideNumber'].astype(int)\n",
    "Pfdhfr_Dict = Pfdhfr_Dict.sort_values(by=['NucleotideNumber'], ascending=True).reset_index(drop=True)\n",
    "Pfdhfr_Dict = Pfdhfr_Dict.drop(['NucleotideNumber'], axis=1)"
   ]
  },
  {
   "cell_type": "code",
   "execution_count": 93,
   "metadata": {},
   "outputs": [
    {
     "name": "stderr",
     "output_type": "stream",
     "text": [
      "/tmp/ipykernel_2847034/1002212794.py:4: SettingWithCopyWarning: \n",
      "A value is trying to be set on a copy of a slice from a DataFrame.\n",
      "Try using .loc[row_indexer,col_indexer] = value instead\n",
      "\n",
      "See the caveats in the documentation: https://pandas.pydata.org/pandas-docs/stable/user_guide/indexing.html#returning-a-view-versus-a-copy\n",
      "  Pfdhps_Dict['NucleotideNumber'] = Pfdhps_Dict['SNP'].str.extract('(\\d+)', expand=True)\n",
      "/tmp/ipykernel_2847034/1002212794.py:5: SettingWithCopyWarning: \n",
      "A value is trying to be set on a copy of a slice from a DataFrame.\n",
      "Try using .loc[row_indexer,col_indexer] = value instead\n",
      "\n",
      "See the caveats in the documentation: https://pandas.pydata.org/pandas-docs/stable/user_guide/indexing.html#returning-a-view-versus-a-copy\n",
      "  Pfdhps_Dict['NucleotideNumber'] = Pfdhps_Dict['NucleotideNumber'].astype(int)\n"
     ]
    }
   ],
   "source": [
    "#Pfdhps\n",
    "\n",
    "Pfdhps_Dict = SNP_GENE_DICT[SNP_GENE_DICT['GENE'].str.contains('Pfdhps')]\n",
    "Pfdhps_Dict['NucleotideNumber'] = Pfdhps_Dict['SNP'].str.extract('(\\d+)', expand=True)\n",
    "Pfdhps_Dict['NucleotideNumber'] = Pfdhps_Dict['NucleotideNumber'].astype(int)\n",
    "Pfdhps_Dict = Pfdhps_Dict.sort_values(by=['NucleotideNumber'], ascending=True).reset_index(drop=True)\n",
    "Pfdhps_Dict = Pfdhps_Dict.drop(['NucleotideNumber'], axis=1)"
   ]
  },
  {
   "cell_type": "code",
   "execution_count": 94,
   "metadata": {},
   "outputs": [
    {
     "name": "stderr",
     "output_type": "stream",
     "text": [
      "/tmp/ipykernel_2847034/3217292573.py:4: SettingWithCopyWarning: \n",
      "A value is trying to be set on a copy of a slice from a DataFrame.\n",
      "Try using .loc[row_indexer,col_indexer] = value instead\n",
      "\n",
      "See the caveats in the documentation: https://pandas.pydata.org/pandas-docs/stable/user_guide/indexing.html#returning-a-view-versus-a-copy\n",
      "  Pfk13_Dict['NucleotideNumber'] = Pfk13_Dict['SNP'].str.extract('(\\d+)', expand=True)\n",
      "/tmp/ipykernel_2847034/3217292573.py:5: SettingWithCopyWarning: \n",
      "A value is trying to be set on a copy of a slice from a DataFrame.\n",
      "Try using .loc[row_indexer,col_indexer] = value instead\n",
      "\n",
      "See the caveats in the documentation: https://pandas.pydata.org/pandas-docs/stable/user_guide/indexing.html#returning-a-view-versus-a-copy\n",
      "  Pfk13_Dict['NucleotideNumber'] = Pfk13_Dict['NucleotideNumber'].astype(int)\n"
     ]
    }
   ],
   "source": [
    "#Pfk13\n",
    "\n",
    "Pfk13_Dict = SNP_GENE_DICT[SNP_GENE_DICT['GENE'].str.contains('Pfk13')]\n",
    "Pfk13_Dict['NucleotideNumber'] = Pfk13_Dict['SNP'].str.extract('(\\d+)', expand=True)\n",
    "Pfk13_Dict['NucleotideNumber'] = Pfk13_Dict['NucleotideNumber'].astype(int)\n",
    "Pfk13_Dict = Pfk13_Dict.sort_values(by=['NucleotideNumber'], ascending=True).reset_index(drop=True)\n",
    "Pfk13_Dict = Pfk13_Dict.drop(['NucleotideNumber'], axis=1)"
   ]
  },
  {
   "cell_type": "code",
   "execution_count": 95,
   "metadata": {},
   "outputs": [
    {
     "name": "stderr",
     "output_type": "stream",
     "text": [
      "/tmp/ipykernel_2847034/3850270403.py:4: SettingWithCopyWarning: \n",
      "A value is trying to be set on a copy of a slice from a DataFrame.\n",
      "Try using .loc[row_indexer,col_indexer] = value instead\n",
      "\n",
      "See the caveats in the documentation: https://pandas.pydata.org/pandas-docs/stable/user_guide/indexing.html#returning-a-view-versus-a-copy\n",
      "  Pfmdr1_Dict['NucleotideNumber'] = Pfmdr1_Dict['SNP'].str.extract('(\\d+)', expand=True)\n",
      "/tmp/ipykernel_2847034/3850270403.py:5: SettingWithCopyWarning: \n",
      "A value is trying to be set on a copy of a slice from a DataFrame.\n",
      "Try using .loc[row_indexer,col_indexer] = value instead\n",
      "\n",
      "See the caveats in the documentation: https://pandas.pydata.org/pandas-docs/stable/user_guide/indexing.html#returning-a-view-versus-a-copy\n",
      "  Pfmdr1_Dict['NucleotideNumber'] = Pfmdr1_Dict['NucleotideNumber'].astype(int)\n"
     ]
    }
   ],
   "source": [
    "#Pfmdr1\n",
    "\n",
    "Pfmdr1_Dict = SNP_GENE_DICT[SNP_GENE_DICT['GENE'].str.contains('Pfmdr1')]\n",
    "Pfmdr1_Dict['NucleotideNumber'] = Pfmdr1_Dict['SNP'].str.extract('(\\d+)', expand=True)\n",
    "Pfmdr1_Dict['NucleotideNumber'] = Pfmdr1_Dict['NucleotideNumber'].astype(int)\n",
    "Pfmdr1_Dict = Pfmdr1_Dict.sort_values(by=['NucleotideNumber'], ascending=True).reset_index(drop=True)\n",
    "Pfmdr1_Dict = Pfmdr1_Dict.drop(['NucleotideNumber'], axis=1)"
   ]
  },
  {
   "cell_type": "code",
   "execution_count": 96,
   "metadata": {},
   "outputs": [
    {
     "name": "stdout",
     "output_type": "stream",
     "text": [
      "   SNP   GENE\n",
      "0  C72  Pfcrt\n",
      "1  V73  Pfcrt\n",
      "2  M74  Pfcrt\n",
      "3  N75  Pfcrt\n",
      "4  K76  Pfcrt\n"
     ]
    }
   ],
   "source": [
    "#This command combines all the sorted GENE-SNP dictionaries back into one in alphabetical order to maintain original ordering of the genes, and shows a preview of the combined dictionary\n",
    "\n",
    "SNP_GENE_DICT = pd.concat([Pfcrt_Dict, Pfcytb_Dict, Pfdhfr_Dict, Pfdhps_Dict, Pfk13_Dict, Pfmdr1_Dict], axis=0).reset_index(drop=True)\n",
    "print(SNP_GENE_DICT.head())"
   ]
  },
  {
   "cell_type": "markdown",
   "metadata": {},
   "source": [
    "## Making a Pivot Table"
   ]
  },
  {
   "cell_type": "code",
   "execution_count": 97,
   "metadata": {},
   "outputs": [
    {
     "name": "stdout",
     "output_type": "stream",
     "text": [
      "SNP               C72  V73  M74  N75  K76  T93  H97  F145  I218  A220  ...  \\\n",
      "StudyID     Site                                                       ...   \n",
      "ACH21-AA003 AMI     0    0   97   97  100    0    0     0     0   100  ...   \n",
      "ACH21-AA004 AMI     0    0   97   97  100    0    0     0     0   100  ...   \n",
      "ACH21-AA006 AMI     0    0   97   97  100    0    0     0     0   100  ...   \n",
      "ACH21-AA008 AMI     0    0   97   97  100    0    0     0     0   100  ...   \n",
      "ACH21-AA010 AMI     0    0   96   96  100    0    0     0     0   100  ...   \n",
      "\n",
      "SNP               A578  C580  D584  R622  A675  N86  Y184  S1034  N1042  D1246  \n",
      "StudyID     Site                                                                \n",
      "ACH21-AA003 AMI      0     0     0     0     0  100     0      0      0      0  \n",
      "ACH21-AA004 AMI      0     0     0     0     0    0     0      0      0      0  \n",
      "ACH21-AA006 AMI      0     0     0   100     0    0   100      0      0      0  \n",
      "ACH21-AA008 AMI      0     0     0     0     0    0   100      0      0      0  \n",
      "ACH21-AA010 AMI      0     0     0     0     0    0   100      0      0      0  \n",
      "\n",
      "[5 rows x 58 columns]\n"
     ]
    }
   ],
   "source": [
    "#This command will create a pivot table from the imported and filtered indivudal samples data. In this specific command, the index for the pivot table is created using BOTH SampleID AND Region info, if just one is used, instead of index=['column1','column2'] one would write index='column1'\n",
    "#When creating the pivot table we use the 'fill_value' command to make any blank cells a negative number to account for samples that had no coverage in the final heat map\n",
    "#The second command will print a preview on here\n",
    "\n",
    "StudyIndPT = IndividualSamplesOnly.pivot_table(index=['StudyID','Site'], columns=['SNP'], values='VAF', fill_value=-20)\n",
    "OrderedList = SNP_GENE_DICT['SNP'].to_list()\n",
    "StudyIndPT = StudyIndPT[OrderedList]\n",
    "print(StudyIndPT.head())\n",
    "\n",
    "#The command below will creaete a new pivot table output in your directory for this pivot table\n",
    "#I have to do this because I cannot figure out how to make the indexes work without essentially recalling these as columns by saving and then loading (next section)\n",
    "\n",
    "StudyIndPT.to_csv(r'NGSresults_PT_Sorted.csv')\n"
   ]
  },
  {
   "cell_type": "markdown",
   "metadata": {},
   "source": [
    "## Workaround Setup - Goal is to plot heatmap, label it, and color code the rows by a category (sites) and the columns by a category (genes)"
   ]
  },
  {
   "cell_type": "code",
   "execution_count": 98,
   "metadata": {},
   "outputs": [
    {
     "name": "stdout",
     "output_type": "stream",
     "text": [
      "            Site  C72  V73  M74  N75  K76  T93  H97  F145  I218  ...  A578  \\\n",
      "StudyID                                                          ...         \n",
      "ACH21-AA003  AMI    0    0   97   97  100    0    0     0     0  ...     0   \n",
      "ACH21-AA004  AMI    0    0   97   97  100    0    0     0     0  ...     0   \n",
      "ACH21-AA006  AMI    0    0   97   97  100    0    0     0     0  ...     0   \n",
      "ACH21-AA008  AMI    0    0   97   97  100    0    0     0     0  ...     0   \n",
      "ACH21-AA010  AMI    0    0   96   96  100    0    0     0     0  ...     0   \n",
      "\n",
      "             C580  D584  R622  A675  N86  Y184  S1034  N1042  D1246  \n",
      "StudyID                                                              \n",
      "ACH21-AA003     0     0     0     0  100     0      0      0      0  \n",
      "ACH21-AA004     0     0     0     0    0     0      0      0      0  \n",
      "ACH21-AA006     0     0   100     0    0   100      0      0      0  \n",
      "ACH21-AA008     0     0     0     0    0   100      0      0      0  \n",
      "ACH21-AA010     0     0     0     0    0   100      0      0      0  \n",
      "\n",
      "[5 rows x 59 columns]\n",
      "             C72  V73  M74  N75  K76  T93  H97  F145  I218  A220  ...  A578  \\\n",
      "StudyID                                                           ...         \n",
      "ACH21-AA003    0    0   97   97  100    0    0     0     0   100  ...     0   \n",
      "ACH21-AA004    0    0   97   97  100    0    0     0     0   100  ...     0   \n",
      "ACH21-AA006    0    0   97   97  100    0    0     0     0   100  ...     0   \n",
      "ACH21-AA008    0    0   97   97  100    0    0     0     0   100  ...     0   \n",
      "ACH21-AA010    0    0   96   96  100    0    0     0     0   100  ...     0   \n",
      "\n",
      "             C580  D584  R622  A675  N86  Y184  S1034  N1042  D1246  \n",
      "StudyID                                                              \n",
      "ACH21-AA003     0     0     0     0  100     0      0      0      0  \n",
      "ACH21-AA004     0     0     0     0    0     0      0      0      0  \n",
      "ACH21-AA006     0     0   100     0    0   100      0      0      0  \n",
      "ACH21-AA008     0     0     0     0    0   100      0      0      0  \n",
      "ACH21-AA010     0     0     0     0    0   100      0      0      0  \n",
      "\n",
      "[5 rows x 58 columns]\n"
     ]
    }
   ],
   "source": [
    "#Here, first task is to load the dataframe (but it will treat the dual indexes a bit differently)\n",
    "\n",
    "InputPivotFile = pd.read_csv('NGSresults_PT_Sorted.csv')\n",
    "\n",
    "\n",
    "#For that reason, we need to set the index for our setup file\n",
    "#Then the print will let us look at the output\n",
    "\n",
    "\n",
    "InputPivotFile = InputPivotFile.set_index('StudyID')\n",
    "print(InputPivotFile.head())\n",
    "\n",
    "# #Now, the ACTUAL file we will plot needs to NOT have the region info. Only the SampleID and the dataframe of values for the SNPs\n",
    "# #To accomplish this, we drop the Region column. Make sure to drop save the output as a different file. The \"_simple\" is what we will plot. The non simple is what will be used in setup in the first part next\n",
    "\n",
    "InputPivotFile_simple = InputPivotFile.drop(columns=['Site'])\n",
    "print(InputPivotFile_simple.head())\n",
    "\n"
   ]
  },
  {
   "cell_type": "markdown",
   "metadata": {},
   "source": [
    "## Setting up everything for the heatmap - primarily the colors for the \"Sites\" and the colors for the \"Genes\""
   ]
  },
  {
   "cell_type": "code",
   "execution_count": 99,
   "metadata": {},
   "outputs": [],
   "source": [
    "#This first part sets up the SNP-Gene dictionary and make sure the genes are ordered alphabetically so that the genes and colors show up in the same order on each plot\n",
    "\n",
    "SNP_GENE_DICT = SNP_GENE_DICT.set_index('SNP')\n",
    "SNP_GENE_DICT = SNP_GENE_DICT.sort_values(by=['GENE'], ascending=True)\n",
    "\n",
    "#The second part tells \"setup 1&2\" to consider labeling by the Site and Gene values.\n",
    "#Note, this is the non \"_simple\" file\n",
    "\n",
    "setup = InputPivotFile.Site\n",
    "setup2 = SNP_GENE_DICT.GENE\n",
    "\n",
    "#The following code establishes random colors (\"hex codes\") according to the number of sites you have in your dataset\n",
    "#the commented out section is the simple version but may lead to colors being to similar, the section below offers a wider range, but sometimes it create a hex code that is too short and can't be read by the code below so a random number or letter is added to complete the hex code\n",
    "\n",
    "num_of_sites = (len(setup.unique()))\n",
    "color_list = [ ]\n",
    "\n",
    "# for i in range(num_of_sites):\n",
    "#     color = \"#\"+''.join([random.choice('0123456789ABCDEF') for j in range(6)])\n",
    "#     color_list.append(color)\n",
    "\n",
    "for i in range(num_of_sites):\n",
    "    color = random.randrange(0, 2**24)\n",
    "    hex_color = hex(color)\n",
    "    hex_color = \"#\" + hex_color[2:]\n",
    "    if len(hex_color) == 7:\n",
    "        color_list.append(hex_color)\n",
    "    else:\n",
    "        print(len(hex_color))\n",
    "        hex_color = hex_color+''.join([random.choice('0123456789ABCDEF') for j in range(1)])\n",
    "        color_list.append(hex_color)\n",
    "\n",
    "#Finally we create a dictionary that connects each unique site and gene to a unique color for plotting on the heat map    \n",
    "\n",
    "lut = dict(zip(setup.unique(), color_list))  ##create a dictionary where each unique region has a specific color as a value\n",
    "row_colors2 = setup.map(lut)   \n",
    "\n",
    "lut2 = dict(zip(setup2.unique(), ['#ee3d02','#d9ee02', '#02ee11', '#02eee0', '#021fee', '#ee02e8']))  ##create a dictionary where each unique gene has a specific color as a value\n",
    "col_colors2 = setup2.map(lut2)"
   ]
  },
  {
   "cell_type": "markdown",
   "metadata": {},
   "source": [
    "# Plotting Heatmap"
   ]
  },
  {
   "cell_type": "code",
   "execution_count": 100,
   "metadata": {
    "tags": []
   },
   "outputs": [
    {
     "name": "stderr",
     "output_type": "stream",
     "text": [
      "/opt/tljh/user/lib/python3.9/site-packages/seaborn/matrix.py:654: UserWarning: Clustering large matrix with scipy. Installing `fastcluster` may give better performance.\n",
      "  warnings.warn(msg)\n"
     ]
    },
    {
     "data": {
      "image/png": "[encoded data removed]",
      "text/plain": [
       "<Figure size 1000x1000 with 6 Axes>"
      ]
     },
     "metadata": {},
     "output_type": "display_data"
    }
   ],
   "source": [
    "#Finally, the heatmap plotting. Note, the file that is being plotted is the \"_simple\" datafram\n",
    "#'col_cluster' is set to False so the order of the genes and SNPs stays ordered; 'row_cluster' is set to true to show the relationship between sites but can be set to false if order needs to be preserved\n",
    "#'yticklabels' can be set to true if you want to see the SampleID each row corresponds to; 'xticklabels' should be set to true to see the SNP that is being shown in that region of the heatmap\n",
    "\n",
    "x = sns.clustermap(InputPivotFile_simple, cmap='Blues', row_colors=row_colors2, col_colors=col_colors2, col_cluster=False, row_cluster=True , yticklabels=False, xticklabels=True)\n",
    "x.ax_heatmap.set_xticklabels(x.ax_heatmap.get_xmajorticklabels(), fontsize = 7)\n",
    "\n",
    "\n",
    "#This code creates two legends that shows \"Genes\" and their corresponding colors in the upper right and the \"Sites\" and their corresponding colors in the lower right\n",
    "\n",
    "handles = [Patch(facecolor=lut2[name]) for name in lut2]\n",
    "handles2 = [Patch(facecolor=lut[name]) for name in lut]\n",
    "\n",
    "plt.legend(handles, lut2, title='GENE',\n",
    "           bbox_to_anchor=(1.12, .8), bbox_transform=plt.gcf().transFigure, loc='upper right')\n",
    "\n",
    "x.ax_col_dendrogram.legend(handles2, lut, title='Site', loc=\"lower right\", bbox_to_anchor=(1.12, .25), bbox_transform=plt.gcf().transFigure)\n",
    "\n",
    "\n",
    "#Finally, this last bit will save the output as a pdf\n",
    "plt.savefig('NGSresults-Heatmap.pdf', bbox_inches='tight')"
   ]
  },
  {
   "cell_type": "markdown",
   "metadata": {},
   "source": [
    "## Thoughts on how to use this"
   ]
  },
  {
   "cell_type": "markdown",
   "metadata": {},
   "source": [
    "This is very simple and rather limited but if you wanted to plot the frequencies of SNPs (or maybe specific microhaplotype makeup, not sure what this would look like) along with hrp2 deletion status, hrp3 deletion status, mdr1 copy number level for many samples and look at how the deletions, CNVs, and other mutations cluster this would be an easy way to see what goes with what. It could be used to drive the labeling of a more informative PCA.\n",
    "\n",
    "Regarding the mentioned hrp2/3 deletions, mdr1 CNVs: if there is an hrp2 column, along with all the mutation (SNPs) columns, you could have 100% be hrp2 deletion and 0% be not deleted, same for hrp3, and then for mdr1 it could be something like 0% is no duplication and 100% is the maximum amount of duplications observed and the levels from 0-100 indicate to what degree it is duplicated. Just some quick thoughts.\n",
    "\n",
    "I think in general, this heatmap is slightly better than highlighting values in Excel. The thing that does elevate it beyond that is that the sample (rows) and/or mutations (columns) can cluster based on the frequencies (or whatever values) are prsent and this can be informative, plus it is very quick.\n",
    "\n",
    "Therefore, this can be a potentially informative first step. \n",
    "\n",
    "There are limitations to how many rows and columns can be plotted together before the labels get lost."
   ]
  },
  {
   "cell_type": "code",
   "execution_count": null,
   "metadata": {},
   "outputs": [],
   "source": []
  },
  {
   "cell_type": "code",
   "execution_count": null,
   "metadata": {},
   "outputs": [],
   "source": []
  },
  {
   "cell_type": "code",
   "execution_count": null,
   "metadata": {},
   "outputs": [],
   "source": []
  }
 ],
 "metadata": {
  "kernelspec": {
   "display_name": "Python 3 (ipykernel)",
   "language": "python",
   "name": "python3"
  },
  "language_info": {
   "codemirror_mode": {
    "name": "ipython",
    "version": 3
   },
   "file_extension": ".py",
   "mimetype": "text/x-python",
   "name": "python",
   "nbconvert_exporter": "python",
   "pygments_lexer": "ipython3",
   "version": "3.9.13"
  }
 },
 "nbformat": 4,
 "nbformat_minor": 4
}
